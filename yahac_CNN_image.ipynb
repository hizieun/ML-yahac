{
  "nbformat": 4,
  "nbformat_minor": 0,
  "metadata": {
    "colab": {
      "name": "yahac_CNN_image.ipynb",
      "provenance": [],
      "collapsed_sections": [],
      "authorship_tag": "ABX9TyPkIfy/XIkNrqB4mDD1Cl+H",
      "include_colab_link": true
    },
    "kernelspec": {
      "name": "python3",
      "display_name": "Python 3"
    }
  },
  "cells": [
    {
      "cell_type": "markdown",
      "metadata": {
        "id": "view-in-github",
        "colab_type": "text"
      },
      "source": [
        "<a href=\"https://colab.research.google.com/github/hizieun/ML-yahac/blob/main/yahac_CNN_image.ipynb\" target=\"_parent\"><img src=\"https://colab.research.google.com/assets/colab-badge.svg\" alt=\"Open In Colab\"/></a>"
      ]
    },
    {
      "cell_type": "markdown",
      "metadata": {
        "id": "GDEld386kWOq"
      },
      "source": [
        "\r\n",
        "**이미지 데이터가 어떻게 생겼는지 알고, 차원의 개념을 가지고 이미지 데이터를 이해하는 과정**"
      ]
    },
    {
      "cell_type": "markdown",
      "metadata": {
        "id": "6g0TfDbZnK0Z"
      },
      "source": [
        "1. 라이브러리 사용"
      ]
    },
    {
      "cell_type": "code",
      "metadata": {
        "id": "AA-ArF1bnQKu"
      },
      "source": [
        "import tensorflow as tf\r\n",
        "import numpy as np"
      ],
      "execution_count": 6,
      "outputs": []
    },
    {
      "cell_type": "markdown",
      "metadata": {
        "id": "in5Q64mAnRhp"
      },
      "source": [
        "2. 샘플 이미지셋 불러오기"
      ]
    },
    {
      "cell_type": "code",
      "metadata": {
        "colab": {
          "base_uri": "https://localhost:8080/"
        },
        "id": "QR3dyno3nS_B",
        "outputId": "64588314-d7f5-443e-87d1-622bc1302afb"
      },
      "source": [
        "(mnist_x, mnist_y), _ = tf.keras.datasets.mnist.load_data()\r\n",
        "print(mnist_x.shape, mnist_y.shape)\r\n",
        "\r\n",
        "(cifar_x, cifar_y), _ = tf.keras.datasets.cifar10.load_data()\r\n",
        "print(cifar_x.shape, cifar_y.shape)"
      ],
      "execution_count": 7,
      "outputs": [
        {
          "output_type": "stream",
          "text": [
            "(60000, 28, 28) (60000,)\n",
            "(50000, 32, 32, 3) (50000, 1)\n"
          ],
          "name": "stdout"
        }
      ]
    },
    {
      "cell_type": "markdown",
      "metadata": {
        "id": "0S-gV_KDnWEx"
      },
      "source": [
        "3. 이미지 출력하기"
      ]
    },
    {
      "cell_type": "code",
      "metadata": {
        "colab": {
          "base_uri": "https://localhost:8080/",
          "height": 300
        },
        "id": "B7Xp18iNoCwh",
        "outputId": "69b586d3-c324-4643-f8a5-c51351a366de"
      },
      "source": [
        "print(mnist_y[0:10])\r\n",
        "import matplotlib.pyplot as plt\r\n",
        "plt.imshow(mnist_x[4], cmap='gray')"
      ],
      "execution_count": 12,
      "outputs": [
        {
          "output_type": "stream",
          "text": [
            "[5 0 4 1 9 2 1 3 1 4]\n"
          ],
          "name": "stdout"
        },
        {
          "output_type": "execute_result",
          "data": {
            "text/plain": [
              "<matplotlib.image.AxesImage at 0x7fe4b7a4bf28>"
            ]
          },
          "metadata": {
            "tags": []
          },
          "execution_count": 12
        },
        {
          "output_type": "display_data",
          "data": {
            "image/png": "[encoded data removed]",
            "text/plain": [
              "<Figure size 432x288 with 1 Axes>"
            ]
          },
          "metadata": {
            "tags": [],
            "needs_background": "light"
          }
        }
      ]
    },
    {
      "cell_type": "code",
      "metadata": {
        "colab": {
          "base_uri": "https://localhost:8080/",
          "height": 458
        },
        "id": "PBfoiJwZnW4B",
        "outputId": "aee6644d-77f3-46f0-cb19-c68dc1431409"
      },
      "source": [
        "print(cifar_y[0:10])\r\n",
        "import matplotlib.pyplot as plt\r\n",
        "plt.imshow(cifar_x[0])"
      ],
      "execution_count": 13,
      "outputs": [
        {
          "output_type": "stream",
          "text": [
            "[[6]\n",
            " [9]\n",
            " [9]\n",
            " [4]\n",
            " [1]\n",
            " [1]\n",
            " [2]\n",
            " [7]\n",
            " [8]\n",
            " [3]]\n"
          ],
          "name": "stdout"
        },
        {
          "output_type": "execute_result",
          "data": {
            "text/plain": [
              "<matplotlib.image.AxesImage at 0x7fe4b7a2aef0>"
            ]
          },
          "metadata": {
            "tags": []
          },
          "execution_count": 13
        },
        {
          "output_type": "display_data",
          "data": {
            "image/png": "[encoded data removed]",
            "text/plain": [
              "<Figure size 432x288 with 1 Axes>"
            ]
          },
          "metadata": {
            "tags": [],
            "needs_background": "light"
          }
        }
      ]
    },
    {
      "cell_type": "markdown",
      "metadata": {
        "id": "Qmxvd5iMnYei"
      },
      "source": [
        "4. 차원 확인"
      ]
    },
    {
      "cell_type": "code",
      "metadata": {
        "colab": {
          "base_uri": "https://localhost:8080/"
        },
        "id": "hskq2tUCnaMx",
        "outputId": "2f4a24dc-637b-4fbf-bb73-25cf9f592a12"
      },
      "source": [
        "d1 = np.array([1, 2, 3, 4, 5])\r\n",
        "print(d1.shape)\r\n",
        "\r\n",
        "d2 = np.array([d1, d1, d1, d1])\r\n",
        "print(d2.shape)\r\n",
        "\r\n",
        "d3 = np.array([d2, d2, d2])\r\n",
        "print(d3.shape)\r\n",
        "\r\n",
        "d4 = np.array([d3, d3])\r\n",
        "print(d4.shape)"
      ],
      "execution_count": 9,
      "outputs": [
        {
          "output_type": "stream",
          "text": [
            "(5,)\n",
            "(4, 5)\n",
            "(3, 4, 5)\n",
            "(2, 3, 4, 5)\n"
          ],
          "name": "stdout"
        }
      ]
    },
    {
      "cell_type": "markdown",
      "metadata": {
        "id": "MJWLT59rn615"
      },
      "source": [
        "5. (5, ), (5, 1), (1, 5) 비교"
      ]
    },
    {
      "cell_type": "code",
      "metadata": {
        "colab": {
          "base_uri": "https://localhost:8080/"
        },
        "id": "gZigtlZ0VDzw",
        "outputId": "10b8d517-b964-41f2-9442-ef2371c2674e"
      },
      "source": [
        "x1 = np.array([1, 2, 3, 4, 5])\r\n",
        "print(x1.shape)\r\n",
        "print(mnist_y[0:5])\r\n",
        "print(mnist_y[0:5].shape)\r\n",
        "print(\"==================\")\r\n",
        "x2 = np.array([[1, 2, 3, 4, 5]])\r\n",
        "print(x2.shape)\r\n",
        "print(\"==================\")\r\n",
        "x3 = np.array([[1], [2], [3], [4], [5]])\r\n",
        "print(x3.shape)\r\n",
        "print(cifar_y[0:5])\r\n",
        "print(cifar_y[0:5].shape)"
      ],
      "execution_count": 11,
      "outputs": [
        {
          "output_type": "stream",
          "text": [
            "(5,)\n",
            "[5 0 4 1 9]\n",
            "(5,)\n",
            "==================\n",
            "(1, 5)\n",
            "==================\n",
            "(5, 1)\n",
            "[[6]\n",
            " [9]\n",
            " [9]\n",
            " [4]\n",
            " [1]]\n",
            "(5, 1)\n"
          ],
          "name": "stdout"
        }
      ]
    }
  ]
}