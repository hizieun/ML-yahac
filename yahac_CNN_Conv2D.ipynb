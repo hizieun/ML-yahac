{
  "nbformat": 4,
  "nbformat_minor": 0,
  "metadata": {
    "colab": {
      "name": "yahac_CNN_Conv2D.ipynb",
      "private_outputs": true,
      "provenance": [],
      "authorship_tag": "ABX9TyORyah+drbofVJH4kl6nU5b",
      "include_colab_link": true
    },
    "kernelspec": {
      "name": "python3",
      "display_name": "Python 3"
    }
  },
  "cells": [
    {
      "cell_type": "markdown",
      "metadata": {
        "id": "view-in-github",
        "colab_type": "text"
      },
      "source": [
        "<a href=\"https://colab.research.google.com/github/hizieun/ML-yahac/blob/main/yahac_CNN_Conv2D.ipynb\" target=\"_parent\"><img src=\"https://colab.research.google.com/assets/colab-badge.svg\" alt=\"Open In Colab\"/></a>"
      ]
    },
    {
      "cell_type": "markdown",
      "metadata": {
        "id": "zdpcIiJZvlND"
      },
      "source": [
        "컨볼루션에 대한 이해와 컨볼루션 레이어의 사용법을 익힙니다.\r\n",
        "\r\n",
        "컨볼루션 필터의 역할을 중심으로 컨볼루션 레이어에 대한 이해를 합니다. \r\n",
        "\r\n",
        "컨볼루션 연산이 어떻게 이루어 지는지 확인해 봅니다. "
      ]
    },
    {
      "cell_type": "markdown",
      "metadata": {
        "id": "8pFRqkLb7CRe"
      },
      "source": [
        "※ 필터셋\r\n",
        "\r\n",
        "3차원 형태로 된 가중치의 모음\r\n",
        "\r\n",
        "필터셋 하나는 앞선 레이어의 결과인 \"특징맵\" 전체를 본다.\r\n",
        "\r\n",
        "필터셋 갯수 만큼 특징맵을 만든다."
      ]
    },
    {
      "cell_type": "markdown",
      "metadata": {
        "id": "47G0G9PUv1Xh"
      },
      "source": [
        "**라이브러리 사용**"
      ]
    },
    {
      "cell_type": "code",
      "metadata": {
        "id": "pLvYp3cJvb4t"
      },
      "source": [
        "import tensorflow as tf\r\n",
        "import pandas as pd"
      ],
      "execution_count": null,
      "outputs": []
    },
    {
      "cell_type": "markdown",
      "metadata": {
        "id": "gbBwQ6nNv6bS"
      },
      "source": [
        "데이터 준비"
      ]
    },
    {
      "cell_type": "code",
      "metadata": {
        "id": "a9iVOYWuv8Ni"
      },
      "source": [
        "(var_x, var_y), _ = tf.keras.datasets.mnist.load_data()\r\n",
        "var_x = var_x.reshape(60000, 28, 28, 1)\r\n",
        "var_y = pd.get_dummies(var_y)\r\n",
        "print(var_x.shape, var_y.shape)"
      ],
      "execution_count": null,
      "outputs": []
    },
    {
      "cell_type": "markdown",
      "metadata": {
        "id": "DiEUYRj-zCck"
      },
      "source": [
        "모델 생성"
      ]
    },
    {
      "cell_type": "code",
      "metadata": {
        "id": "w1X7kqrhzFp_"
      },
      "source": [
        "X = tf.keras.layers.Input(shape=[28, 28, 1])\r\n",
        "H = tf.keras.layers.Conv2D(3, kernel_size=5, activation='swish')(X)\r\n",
        "H = tf.keras.layers.Conv2D(6, kernel_size=5, activation='swish')(H)\r\n",
        "H = tf.keras.layers.Flatten()(H)\r\n",
        "H = tf.keras.layers.Dense(84, activation='swish')(H)\r\n",
        "Y = tf.keras.layers.Dense(10, activation='softmax')(H)\r\n",
        "model = tf.keras.models.Model(X, Y)\r\n",
        "model.compile(loss='categorical_crossentropy', metrics=['accuracy'])"
      ],
      "execution_count": null,
      "outputs": []
    },
    {
      "cell_type": "markdown",
      "metadata": {
        "id": "j__dbjGgzkiM"
      },
      "source": [
        "모델 학습"
      ]
    },
    {
      "cell_type": "code",
      "metadata": {
        "id": "gucjKsi6zmKK"
      },
      "source": [
        "model.fit(var_x, var_y, epochs=10)"
      ],
      "execution_count": null,
      "outputs": []
    },
    {
      "cell_type": "markdown",
      "metadata": {
        "id": "jCWtoA2Tzoz6"
      },
      "source": [
        "모델 이용"
      ]
    },
    {
      "cell_type": "code",
      "metadata": {
        "id": "ao-zg7kAzqn6"
      },
      "source": [
        "pred = model.predict(var_x[0:5])\r\n",
        "pd.DataFrame(pred).round(2)"
      ],
      "execution_count": null,
      "outputs": []
    },
    {
      "cell_type": "markdown",
      "metadata": {
        "id": "vpyVd2lmzv4C"
      },
      "source": [
        "정답 확인"
      ]
    },
    {
      "cell_type": "code",
      "metadata": {
        "id": "fk3W4PRXz0XD"
      },
      "source": [
        "var_y[0:5]"
      ],
      "execution_count": null,
      "outputs": []
    },
    {
      "cell_type": "markdown",
      "metadata": {
        "id": "PX1KLcY7z3M6"
      },
      "source": [
        "모델 확인"
      ]
    },
    {
      "cell_type": "code",
      "metadata": {
        "id": "n38Sa226z4ni"
      },
      "source": [
        "model.summary()"
      ],
      "execution_count": null,
      "outputs": []
    }
  ]
}