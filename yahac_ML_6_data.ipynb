{
  "nbformat": 4,
  "nbformat_minor": 0,
  "metadata": {
    "colab": {
      "name": "yahac_ML_6_data.ipynb",
      "provenance": [],
      "collapsed_sections": [],
      "authorship_tag": "ABX9TyNiWfRiNRMO6fcHN6JtCZjl",
      "include_colab_link": true
    },
    "kernelspec": {
      "name": "python3",
      "display_name": "Python 3"
    }
  },
  "cells": [
    {
      "cell_type": "markdown",
      "metadata": {
        "id": "view-in-github",
        "colab_type": "text"
      },
      "source": [
        "<a href=\"https://colab.research.google.com/github/hizieun/ML-yahac/blob/main/yahac_ML_6_data.ipynb\" target=\"_parent\"><img src=\"https://colab.research.google.com/assets/colab-badge.svg\" alt=\"Open In Colab\"/></a>"
      ]
    },
    {
      "cell_type": "code",
      "metadata": {
        "colab": {
          "base_uri": "https://localhost:8080/",
          "height": 428
        },
        "id": "9ZSH6EdnfolJ",
        "outputId": "93324eca-ca53-48ed-b09e-b02d907607f9"
      },
      "source": [
        "###########################\r\n",
        "# 라이브러리 사용\r\n",
        "import pandas as pd\r\n",
        "\r\n",
        "###########################\r\n",
        "# 파일 읽어오기\r\n",
        "file_path = 'https://raw.githubusercontent.com/blackdew/tensorflow1/master/csv/iris2.csv'\r\n",
        "iris = pd.read_csv(file_path)\r\n",
        "iris.head()\r\n",
        "\r\n",
        "###########################\r\n",
        "# 칼럼의 데이터 타입 체크(컬럼.dtypes)\r\n",
        "print(iris.dtypes)\r\n",
        "\r\n",
        "# 원핫인코딩 되지 않는 현상 확인(pd.get_dummies())\r\n",
        "encoding = pd.get_dummies(iris)\r\n",
        "encoding.head()\r\n",
        "\r\n",
        "###########################\r\n",
        "# 품종 타입을 범주형으로 바꾸는 방법(컬럼.astype('category))\r\n",
        "iris['품종'] = iris['품종'].astype('category')\r\n",
        "print(iris.dtypes)\r\n",
        "\r\n",
        "# 카테고리 타입의 변수만 원핫인코딩\r\n",
        "encoding = pd.get_dummies(iris)\r\n",
        "encoding.head()\r\n",
        "\r\n",
        "###########################\r\n",
        "# NA값을 체크하기(df.isna())\r\n",
        "iris.isna().sum()\r\n",
        "iris.tail()\r\n",
        "\r\n",
        "###########################\r\n",
        "# NA값에 꽃잎폭 평균값을 넣어주는 방법(fillna())\r\n",
        "mean = iris['꽃잎폭'].mean()\r\n",
        "print(mean)\r\n",
        "iris['꽃잎폭'] = iris['꽃잎폭'].fillna(mean)\r\n",
        "iris.tail()"
      ],
      "execution_count": 1,
      "outputs": [
        {
          "output_type": "stream",
          "text": [
            "꽃잎길이     float64\n",
            "꽃잎폭      float64\n",
            "꽃받침길이    float64\n",
            "꽃받침폭     float64\n",
            "품종         int64\n",
            "dtype: object\n",
            "꽃잎길이      float64\n",
            "꽃잎폭       float64\n",
            "꽃받침길이     float64\n",
            "꽃받침폭      float64\n",
            "품종       category\n",
            "dtype: object\n",
            "3.0543624161073835\n"
          ],
          "name": "stdout"
        },
        {
          "output_type": "execute_result",
          "data": {
            "text/html": [
              "<div>\n",
              "<style scoped>\n",
              "    .dataframe tbody tr th:only-of-type {\n",
              "        vertical-align: middle;\n",
              "    }\n",
              "\n",
              "    .dataframe tbody tr th {\n",
              "        vertical-align: top;\n",
              "    }\n",
              "\n",
              "    .dataframe thead th {\n",
              "        text-align: right;\n",
              "    }\n",
              "</style>\n",
              "<table border=\"1\" class=\"dataframe\">\n",
              "  <thead>\n",
              "    <tr style=\"text-align: right;\">\n",
              "      <th></th>\n",
              "      <th>꽃잎길이</th>\n",
              "      <th>꽃잎폭</th>\n",
              "      <th>꽃받침길이</th>\n",
              "      <th>꽃받침폭</th>\n",
              "      <th>품종</th>\n",
              "    </tr>\n",
              "  </thead>\n",
              "  <tbody>\n",
              "    <tr>\n",
              "      <th>145</th>\n",
              "      <td>6.7</td>\n",
              "      <td>3.000000</td>\n",
              "      <td>5.2</td>\n",
              "      <td>2.3</td>\n",
              "      <td>2</td>\n",
              "    </tr>\n",
              "    <tr>\n",
              "      <th>146</th>\n",
              "      <td>6.3</td>\n",
              "      <td>2.500000</td>\n",
              "      <td>5.0</td>\n",
              "      <td>1.9</td>\n",
              "      <td>2</td>\n",
              "    </tr>\n",
              "    <tr>\n",
              "      <th>147</th>\n",
              "      <td>6.5</td>\n",
              "      <td>3.000000</td>\n",
              "      <td>5.2</td>\n",
              "      <td>2.0</td>\n",
              "      <td>2</td>\n",
              "    </tr>\n",
              "    <tr>\n",
              "      <th>148</th>\n",
              "      <td>6.2</td>\n",
              "      <td>3.400000</td>\n",
              "      <td>5.4</td>\n",
              "      <td>2.3</td>\n",
              "      <td>2</td>\n",
              "    </tr>\n",
              "    <tr>\n",
              "      <th>149</th>\n",
              "      <td>5.9</td>\n",
              "      <td>3.054362</td>\n",
              "      <td>5.1</td>\n",
              "      <td>1.8</td>\n",
              "      <td>2</td>\n",
              "    </tr>\n",
              "  </tbody>\n",
              "</table>\n",
              "</div>"
            ],
            "text/plain": [
              "     꽃잎길이       꽃잎폭  꽃받침길이  꽃받침폭 품종\n",
              "145   6.7  3.000000    5.2   2.3  2\n",
              "146   6.3  2.500000    5.0   1.9  2\n",
              "147   6.5  3.000000    5.2   2.0  2\n",
              "148   6.2  3.400000    5.4   2.3  2\n",
              "149   5.9  3.054362    5.1   1.8  2"
            ]
          },
          "metadata": {
            "tags": []
          },
          "execution_count": 1
        }
      ]
    }
  ]
}