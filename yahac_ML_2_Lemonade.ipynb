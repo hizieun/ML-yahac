{
  "nbformat": 4,
  "nbformat_minor": 0,
  "metadata": {
    "colab": {
      "name": "yahac_ML_2_Lemonade.ipynb",
      "provenance": [],
      "collapsed_sections": [],
      "authorship_tag": "ABX9TyNhLsvjj624375Eur/UFNav",
      "include_colab_link": true
    },
    "kernelspec": {
      "name": "python3",
      "display_name": "Python 3"
    }
  },
  "cells": [
    {
      "cell_type": "markdown",
      "metadata": {
        "id": "view-in-github",
        "colab_type": "text"
      },
      "source": [
        "<a href=\"https://colab.research.google.com/github/hizieun/ML-yahac/blob/main/yahac_ML_2_Lemonade.ipynb\" target=\"_parent\"><img src=\"https://colab.research.google.com/assets/colab-badge.svg\" alt=\"Open In Colab\"/></a>"
      ]
    },
    {
      "cell_type": "code",
      "metadata": {
        "colab": {
          "base_uri": "https://localhost:8080/"
        },
        "id": "YoP285pqXFGI",
        "outputId": "47e5a498-ccc0-43f5-8092-e63613e7cca4"
      },
      "source": [
        "# 라이브러리 사용\r\n",
        "import tensorflow as tf\r\n",
        "import pandas as pd\r\n",
        "\r\n",
        "# 데이터 준비\r\n",
        "file_path = 'https://raw.githubusercontent.com/blackdew/tensorflow1/master/csv/lemonade.csv'\r\n",
        "lemonade = pd.read_csv(file_path)\r\n",
        "lemonade.head()\r\n",
        "\r\n",
        "# 종속변수&독립변수\r\n",
        "var_x = lemonade[['온도']]\r\n",
        "var_y = lemonade[['판매량']]\r\n",
        "print(var_x.shape, var_y.shape) # (6, 1) (6, 1)\r\n",
        "\r\n",
        "# 모델 구조 만들기\r\n",
        "X = tf.keras.layers.Input(shape=[1]) # 1은 온도컬럼(독립변수)을 의미\r\n",
        "Y = tf.keras.layers.Dense(1)(X)      # 1은 판매량컬럼(종속변수)을 의미\r\n",
        "model = tf.keras.models.Model(X, Y)\r\n",
        "model.compile(loss='mse')\r\n",
        "\r\n",
        "# 데이터로 모델 학습(fit) 하기\r\n",
        "model.fit(var_x, var_y, epochs=1000, verbose=0)\r\n",
        "model.fit(var_x, var_y, epochs=10)\r\n",
        "\r\n",
        "# 모델 이용하기\r\n",
        "print(model.predict(var_x))\r\n",
        "print(\"predictions : \", model.predict([[15]]))"
      ],
      "execution_count": 4,
      "outputs": [
        {
          "output_type": "stream",
          "text": [
            "(6, 1) (6, 1)\n",
            "Epoch 1/10\n",
            "1/1 [==============================] - 0s 3ms/step - loss: 3403.2400\n",
            "Epoch 2/10\n",
            "1/1 [==============================] - 0s 6ms/step - loss: 3400.5012\n",
            "Epoch 3/10\n",
            "1/1 [==============================] - 0s 3ms/step - loss: 3397.7637\n",
            "Epoch 4/10\n",
            "1/1 [==============================] - 0s 3ms/step - loss: 3395.0273\n",
            "Epoch 5/10\n",
            "1/1 [==============================] - 0s 3ms/step - loss: 3392.2922\n",
            "Epoch 6/10\n",
            "1/1 [==============================] - 0s 3ms/step - loss: 3389.5579\n",
            "Epoch 7/10\n",
            "1/1 [==============================] - 0s 3ms/step - loss: 3386.8252\n",
            "Epoch 8/10\n",
            "1/1 [==============================] - 0s 3ms/step - loss: 3384.0935\n",
            "Epoch 9/10\n",
            "1/1 [==============================] - 0s 3ms/step - loss: 3381.3625\n",
            "Epoch 10/10\n",
            "1/1 [==============================] - 0s 2ms/step - loss: 3378.6328\n",
            "[[-11.380443]\n",
            " [-12.000269]\n",
            " [-12.620095]\n",
            " [-13.239922]\n",
            " [-13.859748]\n",
            " [-14.479574]]\n",
            "predictions :  [[-8.281311]]\n"
          ],
          "name": "stdout"
        }
      ]
    }
  ]
}