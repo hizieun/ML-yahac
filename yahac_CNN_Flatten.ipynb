{
  "nbformat": 4,
  "nbformat_minor": 0,
  "metadata": {
    "colab": {
      "name": "yahac_CNN_Flatten.ipynb",
      "provenance": [],
      "collapsed_sections": [],
      "authorship_tag": "ABX9TyOIsH5v0UkYzbOQTRNMBG6M",
      "include_colab_link": true
    },
    "kernelspec": {
      "name": "python3",
      "display_name": "Python 3"
    }
  },
  "cells": [
    {
      "cell_type": "markdown",
      "metadata": {
        "id": "view-in-github",
        "colab_type": "text"
      },
      "source": [
        "<a href=\"https://colab.research.google.com/github/hizieun/ML-yahac/blob/main/yahac_CNN_Flatten.ipynb\" target=\"_parent\"><img src=\"https://colab.research.google.com/assets/colab-badge.svg\" alt=\"Open In Colab\"/></a>"
      ]
    },
    {
      "cell_type": "markdown",
      "metadata": {
        "id": "h_ZNooInpEoq"
      },
      "source": [
        "이미지셋 데이터를 표 형태의 데이터로 변형해서 학습하는 법을 배웁니다. 딥러닝 모델의 \"특징 자동 추출기\"라는 별명의 의미를 이해합니다."
      ]
    },
    {
      "cell_type": "markdown",
      "metadata": {
        "id": "CyPvav2Stydc"
      },
      "source": [
        "※ 텐서플로우의 fit 함수\r\n",
        "\r\n",
        "학습을 할 때 전체 관측치를 모두 넣어서 학습을 하는 것이 아니고, batch size로 나누어서 1 epochs에 여러 개의 batch를 가지고 학습을 하도록 구현 되어있다.\r\n",
        "\r\n",
        "학습 알고리즘 중에 가장 기본적인 알고리즘인 gradient descent(GD) 알고리즘은 1 epoch에 모든 데이터를 넣어서 결과를 내고 loss를 구하고, loss가 낮아지는 방향으로 weight를 조정하여 학습을 한다. 이 경우 관측치가 100개이든 10000개이든 1 epoch에 weight를 한 번 조정하게 되는데, 데이터가 많아질수록 weight를 조정하는 횟수로 인해 연산의 비효율이 생긴다.\r\n",
        "\r\n",
        "이를 해결하기 위해서 batch로 나누어서 학습을 하는 방법을 고안했고, 그 방법을 stochastic gradient descent (SGD) 라고 한다. 10000개의 관측치가 있다고 할 때 1000개씩 나누면, 1 epoch에 10변의 weight 조정을 할 수 있게 된다.\r\n",
        "\r\n",
        "텐서플로우는 batch size의 기본값으로 32개씩 나누어서 학습하도록 되어있고, 60000 / 32를 하여 1875개의 batch로 나누고, 1epoch당 1875회의 weight 조정을 한다. model.fit(독립, 종속, epochs=10, batch_size=100) 이라고 넣으면 1 epoch에 600회 학습하는 걸 볼 수 있다."
      ]
    },
    {
      "cell_type": "markdown",
      "metadata": {
        "id": "q8LialB-pxK4"
      },
      "source": [
        "**라이브러리 사용**"
      ]
    },
    {
      "cell_type": "code",
      "metadata": {
        "id": "cYRP6S3Ao9Kp"
      },
      "source": [
        "import tensorflow as tf\r\n",
        "import pandas as pd"
      ],
      "execution_count": 1,
      "outputs": []
    },
    {
      "cell_type": "markdown",
      "metadata": {
        "id": "zM-G6qWzp9lB"
      },
      "source": [
        "**데이터 로드**"
      ]
    },
    {
      "cell_type": "code",
      "metadata": {
        "colab": {
          "base_uri": "https://localhost:8080/"
        },
        "id": "E4Wvy8vBqBwp",
        "outputId": "3205e742-c6ff-4b1f-b193-d89b4971a171"
      },
      "source": [
        "(var_x, var_y), _ = tf.keras.datasets.mnist.load_data()\r\n",
        "var_x = var_x.reshape(60000, 784)\r\n",
        "var_y = pd.get_dummies(var_y)\r\n",
        "print(var_x.shape, var_y.shape)"
      ],
      "execution_count": 3,
      "outputs": [
        {
          "output_type": "stream",
          "text": [
            "(60000, 784) (60000, 10)\n"
          ],
          "name": "stdout"
        }
      ]
    },
    {
      "cell_type": "markdown",
      "metadata": {
        "id": "aBthMtmIqWBR"
      },
      "source": [
        "**모델 생성**"
      ]
    },
    {
      "cell_type": "code",
      "metadata": {
        "id": "USn96SgxqYQ5"
      },
      "source": [
        "X = tf.keras.layers.Input(shape=[784])\r\n",
        "H = tf.keras.layers.Dense(84, activation='swish')(X)\r\n",
        "Y = tf.keras.layers.Dense(10, activation='softmax')(H)\r\n",
        "model = tf.keras.models.Model(X, Y)\r\n",
        "model.compile(loss='categorical_crossentropy', metrics='accuracy')"
      ],
      "execution_count": 4,
      "outputs": []
    },
    {
      "cell_type": "markdown",
      "metadata": {
        "id": "U8ZExIDXqqFd"
      },
      "source": [
        "**모델 학습**"
      ]
    },
    {
      "cell_type": "code",
      "metadata": {
        "colab": {
          "base_uri": "https://localhost:8080/"
        },
        "id": "6_-VQgBPqsmk",
        "outputId": "8ad9c512-aa6b-4a18-88ef-8b593345d168"
      },
      "source": [
        "model.fit(var_x, var_y, epochs=10)"
      ],
      "execution_count": 5,
      "outputs": [
        {
          "output_type": "stream",
          "text": [
            "Epoch 1/10\n",
            "1875/1875 [==============================] - 4s 2ms/step - loss: 7.1574 - accuracy: 0.7852\n",
            "Epoch 2/10\n",
            "1875/1875 [==============================] - 4s 2ms/step - loss: 0.5825 - accuracy: 0.9022\n",
            "Epoch 3/10\n",
            "1875/1875 [==============================] - 4s 2ms/step - loss: 0.4598 - accuracy: 0.9296\n",
            "Epoch 4/10\n",
            "1875/1875 [==============================] - 4s 2ms/step - loss: 0.4179 - accuracy: 0.9330\n",
            "Epoch 5/10\n",
            "1875/1875 [==============================] - 4s 2ms/step - loss: 0.3565 - accuracy: 0.9428\n",
            "Epoch 6/10\n",
            "1875/1875 [==============================] - 4s 2ms/step - loss: 0.3521 - accuracy: 0.9468\n",
            "Epoch 7/10\n",
            "1875/1875 [==============================] - 4s 2ms/step - loss: 0.3505 - accuracy: 0.9487\n",
            "Epoch 8/10\n",
            "1875/1875 [==============================] - 4s 2ms/step - loss: 0.3408 - accuracy: 0.9509\n",
            "Epoch 9/10\n",
            "1875/1875 [==============================] - 4s 2ms/step - loss: 0.3325 - accuracy: 0.9516\n",
            "Epoch 10/10\n",
            "1875/1875 [==============================] - 4s 2ms/step - loss: 0.3093 - accuracy: 0.9548\n"
          ],
          "name": "stdout"
        },
        {
          "output_type": "execute_result",
          "data": {
            "text/plain": [
              "<tensorflow.python.keras.callbacks.History at 0x7f3045a71898>"
            ]
          },
          "metadata": {
            "tags": []
          },
          "execution_count": 5
        }
      ]
    },
    {
      "cell_type": "markdown",
      "metadata": {
        "id": "pAll0w_EqxRi"
      },
      "source": [
        "**모델 사용**"
      ]
    },
    {
      "cell_type": "code",
      "metadata": {
        "colab": {
          "base_uri": "https://localhost:8080/"
        },
        "id": "k4d-BpeJqzXK",
        "outputId": "e4058c9e-ac9a-43bb-a74b-c7123830a444"
      },
      "source": [
        "pred = model.predict(var_x[0:5])\r\n",
        "print(pd.DataFrame(pred).round(2))\r\n",
        "print(var_y[0:5])"
      ],
      "execution_count": 6,
      "outputs": [
        {
          "output_type": "stream",
          "text": [
            "     0    1    2    3    4    5    6    7    8    9\n",
            "0  0.0  0.0  0.0  0.0  0.0  1.0  0.0  0.0  0.0  0.0\n",
            "1  1.0  0.0  0.0  0.0  0.0  0.0  0.0  0.0  0.0  0.0\n",
            "2  0.0  0.0  0.0  0.0  1.0  0.0  0.0  0.0  0.0  0.0\n",
            "3  0.0  1.0  0.0  0.0  0.0  0.0  0.0  0.0  0.0  0.0\n",
            "4  0.0  0.0  0.0  0.0  0.0  0.0  0.0  0.0  0.0  1.0\n",
            "   0  1  2  3  4  5  6  7  8  9\n",
            "0  0  0  0  0  0  1  0  0  0  0\n",
            "1  1  0  0  0  0  0  0  0  0  0\n",
            "2  0  0  0  0  1  0  0  0  0  0\n",
            "3  0  1  0  0  0  0  0  0  0  0\n",
            "4  0  0  0  0  0  0  0  0  0  1\n"
          ],
          "name": "stdout"
        }
      ]
    },
    {
      "cell_type": "markdown",
      "metadata": {
        "id": "vc3Fw1mCq-sh"
      },
      "source": [
        "**with flatten**\r\n",
        "**데이터 준비**"
      ]
    },
    {
      "cell_type": "code",
      "metadata": {
        "id": "gGz1yxJbrD9q"
      },
      "source": [
        "(var_x, var_y), _ = tf.keras.datasets.mnist.load_data()"
      ],
      "execution_count": 7,
      "outputs": []
    },
    {
      "cell_type": "markdown",
      "metadata": {
        "id": "WfmCet-8rMrB"
      },
      "source": [
        "**var_x = var_x.shape(60000, 784)**"
      ]
    },
    {
      "cell_type": "code",
      "metadata": {
        "colab": {
          "base_uri": "https://localhost:8080/"
        },
        "id": "TRy9SM0zrRIS",
        "outputId": "35a4584e-1496-4145-ed91-bf0673e56242"
      },
      "source": [
        "var_y = pd.get_dummies(var_y)\r\n",
        "print(var_x.shape, var_y.shape)"
      ],
      "execution_count": 9,
      "outputs": [
        {
          "output_type": "stream",
          "text": [
            "(60000, 28, 28) (60000, 10)\n"
          ],
          "name": "stdout"
        }
      ]
    },
    {
      "cell_type": "markdown",
      "metadata": {
        "id": "LSc-r2CcramC"
      },
      "source": [
        "**모델 생성**"
      ]
    },
    {
      "cell_type": "code",
      "metadata": {
        "id": "E-s1mqGMrc0C"
      },
      "source": [
        "X = tf.keras.layers.Input(shape=[28, 28])\r\n",
        "H = tf.keras.layers.Flatten()(X)\r\n",
        "H = tf.keras.layers.Dense(84, activation='swish')(H)\r\n",
        "Y = tf.keras.layers.Dense(10, activation='softmax')(H)\r\n",
        "model = tf.keras.models.Model(X, Y)\r\n",
        "model.compile(loss='categorical_crossentropy', metrics=['accuracy'])"
      ],
      "execution_count": 10,
      "outputs": []
    },
    {
      "cell_type": "markdown",
      "metadata": {
        "id": "vsd48rHqrxuC"
      },
      "source": [
        "**모델 학습**"
      ]
    },
    {
      "cell_type": "code",
      "metadata": {
        "colab": {
          "base_uri": "https://localhost:8080/"
        },
        "id": "haN82bX9rzOV",
        "outputId": "71061aa8-0087-4949-80f2-1e91c700326d"
      },
      "source": [
        "model.fit(var_x, var_y, epochs=10)"
      ],
      "execution_count": 11,
      "outputs": [
        {
          "output_type": "stream",
          "text": [
            "Epoch 1/10\n",
            "1875/1875 [==============================] - 4s 2ms/step - loss: 6.0272 - accuracy: 0.7926\n",
            "Epoch 2/10\n",
            "1875/1875 [==============================] - 4s 2ms/step - loss: 0.4944 - accuracy: 0.9150\n",
            "Epoch 3/10\n",
            "1875/1875 [==============================] - 4s 2ms/step - loss: 0.4402 - accuracy: 0.9322\n",
            "Epoch 4/10\n",
            "1875/1875 [==============================] - 4s 2ms/step - loss: 0.3891 - accuracy: 0.9376\n",
            "Epoch 5/10\n",
            "1875/1875 [==============================] - 4s 2ms/step - loss: 0.3555 - accuracy: 0.9457\n",
            "Epoch 6/10\n",
            "1875/1875 [==============================] - 4s 2ms/step - loss: 0.3493 - accuracy: 0.9447\n",
            "Epoch 7/10\n",
            "1875/1875 [==============================] - 4s 2ms/step - loss: 0.3412 - accuracy: 0.9473\n",
            "Epoch 8/10\n",
            "1875/1875 [==============================] - 4s 2ms/step - loss: 0.3492 - accuracy: 0.9513\n",
            "Epoch 9/10\n",
            "1875/1875 [==============================] - 4s 2ms/step - loss: 0.3041 - accuracy: 0.9562\n",
            "Epoch 10/10\n",
            "1875/1875 [==============================] - 4s 2ms/step - loss: 0.2984 - accuracy: 0.9578\n"
          ],
          "name": "stdout"
        },
        {
          "output_type": "execute_result",
          "data": {
            "text/plain": [
              "<tensorflow.python.keras.callbacks.History at 0x7f3037635630>"
            ]
          },
          "metadata": {
            "tags": []
          },
          "execution_count": 11
        }
      ]
    },
    {
      "cell_type": "markdown",
      "metadata": {
        "id": "URBhtWIGr14y"
      },
      "source": [
        "**모델 사용**"
      ]
    },
    {
      "cell_type": "code",
      "metadata": {
        "colab": {
          "base_uri": "https://localhost:8080/"
        },
        "id": "F4Xw42JKsHUT",
        "outputId": "e6dc146d-60d8-4122-b4e6-2fc9c59ecc8c"
      },
      "source": [
        "pred = model.predict(var_x[0:5])\r\n",
        "print(pd.DataFrame(pred).round(2))\r\n",
        "print(var_y[0:5])"
      ],
      "execution_count": 12,
      "outputs": [
        {
          "output_type": "stream",
          "text": [
            "     0    1    2    3    4    5    6    7    8    9\n",
            "0  0.0  0.0  0.0  0.0  0.0  1.0  0.0  0.0  0.0  0.0\n",
            "1  1.0  0.0  0.0  0.0  0.0  0.0  0.0  0.0  0.0  0.0\n",
            "2  0.0  0.0  0.0  0.0  1.0  0.0  0.0  0.0  0.0  0.0\n",
            "3  0.0  1.0  0.0  0.0  0.0  0.0  0.0  0.0  0.0  0.0\n",
            "4  0.0  0.0  0.0  0.0  0.0  0.0  0.0  0.0  0.0  1.0\n",
            "   0  1  2  3  4  5  6  7  8  9\n",
            "0  0  0  0  0  0  1  0  0  0  0\n",
            "1  1  0  0  0  0  0  0  0  0  0\n",
            "2  0  0  0  0  1  0  0  0  0  0\n",
            "3  0  1  0  0  0  0  0  0  0  0\n",
            "4  0  0  0  0  0  0  0  0  0  1\n"
          ],
          "name": "stdout"
        }
      ]
    }
  ]
}