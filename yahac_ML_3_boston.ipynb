{
  "nbformat": 4,
  "nbformat_minor": 0,
  "metadata": {
    "colab": {
      "name": "yahac_ML_3_boston.ipynb",
      "provenance": [],
      "collapsed_sections": [],
      "authorship_tag": "ABX9TyMPglWbqDZwVLrQKASBdVZI",
      "include_colab_link": true
    },
    "kernelspec": {
      "name": "python3",
      "display_name": "Python 3"
    }
  },
  "cells": [
    {
      "cell_type": "markdown",
      "metadata": {
        "id": "view-in-github",
        "colab_type": "text"
      },
      "source": [
        "<a href=\"https://colab.research.google.com/github/hizieun/ML-yahac/blob/main/yahac_ML_3_boston.ipynb\" target=\"_parent\"><img src=\"https://colab.research.google.com/assets/colab-badge.svg\" alt=\"Open In Colab\"/></a>"
      ]
    },
    {
      "cell_type": "code",
      "metadata": {
        "colab": {
          "base_uri": "https://localhost:8080/"
        },
        "id": "FA6HuAWhrwhm",
        "outputId": "cdb15de6-a9a3-4bc4-bc2d-934fc26cf384"
      },
      "source": [
        "# 라이브러리 사용\r\n",
        "import tensorflow as tf\r\n",
        "import pandas as pd\r\n",
        "###########################\r\n",
        "# 1. 데이터 준비\r\n",
        "file_path = 'https://raw.githubusercontent.com/blackdew/tensorflow1/master/csv/boston.csv'\r\n",
        "boston = pd.read_csv(file_path)\r\n",
        "print(boston.columns)\r\n",
        "boston.head()\r\n",
        "\r\n",
        "# 독립변수&종속변수 분리\r\n",
        "var_x = boston[['crim', 'zn', 'indus', 'chas', 'nox', 'rm', 'age', 'dis', 'rad', 'tax','ptratio', 'b', 'lstat']]\r\n",
        "var_y = boston[['medv']]\r\n",
        "print(var_x.shape, var_y.shape) # (506, 13) (506, 1)\r\n",
        "\r\n",
        "###########################\r\n",
        "# 2. 모델의 구조 만들기\r\n",
        "X = tf.keras.layers.Input(shape=[13])\r\n",
        "Y = tf.keras.layers.Dense(1)(X)\r\n",
        "model = tf.keras.models.Model(X, Y)\r\n",
        "model.compile(loss='mse')\r\n",
        "# loss function의 종류 및 사용예시\r\n",
        "# https://machinelearningmastery.com/how-to-choose-loss-functions-when-training-deep-learning-neural-networks/\r\n",
        "\r\n",
        "###########################\r\n",
        "# 3. 데이터로 모델을 학습(FIT)하기\r\n",
        "model.fit(var_x, var_y, epochs=1000, verbose=0)\r\n",
        "model.fit(var_x, var_y, epochs=10)\r\n",
        "\r\n",
        "###########################\r\n",
        "# 4. 모델을 이용하기\r\n",
        "print(model.predict(var_x[5:10]))\r\n",
        "# 종속변수 확인\r\n",
        "print(var_y[5:10])\r\n",
        "\r\n",
        "###########################\r\n",
        "# 모델의 수식 확인하기\r\n",
        "print(model.get_weights())\r\n",
        "# get_weights() : "
      ],
      "execution_count": 4,
      "outputs": [
        {
          "output_type": "stream",
          "text": [
            "Index(['crim', 'zn', 'indus', 'chas', 'nox', 'rm', 'age', 'dis', 'rad', 'tax',\n",
            "       'ptratio', 'b', 'lstat', 'medv'],\n",
            "      dtype='object')\n",
            "(506, 13) (506, 1)\n",
            "Epoch 1/10\n",
            "16/16 [==============================] - 0s 1ms/step - loss: 26.8889\n",
            "Epoch 2/10\n",
            "16/16 [==============================] - 0s 1ms/step - loss: 26.9399\n",
            "Epoch 3/10\n",
            "16/16 [==============================] - 0s 978us/step - loss: 26.9164\n",
            "Epoch 4/10\n",
            "16/16 [==============================] - 0s 1ms/step - loss: 26.1287\n",
            "Epoch 5/10\n",
            "16/16 [==============================] - 0s 1ms/step - loss: 26.3274\n",
            "Epoch 6/10\n",
            "16/16 [==============================] - 0s 1ms/step - loss: 26.1417\n",
            "Epoch 7/10\n",
            "16/16 [==============================] - 0s 1ms/step - loss: 26.3588\n",
            "Epoch 8/10\n",
            "16/16 [==============================] - 0s 1ms/step - loss: 26.4575\n",
            "Epoch 9/10\n",
            "16/16 [==============================] - 0s 1ms/step - loss: 26.7713\n",
            "Epoch 10/10\n",
            "16/16 [==============================] - 0s 1ms/step - loss: 27.1114\n",
            "[[26.479387]\n",
            " [21.307678]\n",
            " [18.221407]\n",
            " [ 9.588672]\n",
            " [17.86277 ]]\n",
            "   medv\n",
            "5  28.7\n",
            "6  22.9\n",
            "7  27.1\n",
            "8  16.5\n",
            "9  18.9\n",
            "[array([[-0.08569143],\n",
            "       [ 0.07476933],\n",
            "       [-0.05814633],\n",
            "       [ 3.324965  ],\n",
            "       [ 1.9096475 ],\n",
            "       [ 3.8928125 ],\n",
            "       [ 0.01838739],\n",
            "       [-0.85455877],\n",
            "       [ 0.1480353 ],\n",
            "       [-0.00941494],\n",
            "       [ 0.02805179],\n",
            "       [ 0.01638431],\n",
            "       [-0.5855281 ]], dtype=float32), array([2.5191288], dtype=float32)]\n"
          ],
          "name": "stdout"
        }
      ]
    }
  ]
}