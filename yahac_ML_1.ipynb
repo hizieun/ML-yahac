{
  "nbformat": 4,
  "nbformat_minor": 0,
  "metadata": {
    "colab": {
      "name": "yahac_ML_1.ipynb",
      "provenance": [],
      "collapsed_sections": [],
      "authorship_tag": "ABX9TyPwghsnPyOj18bbETH1oFDI",
      "include_colab_link": true
    },
    "kernelspec": {
      "name": "python3",
      "display_name": "Python 3"
    }
  },
  "cells": [
    {
      "cell_type": "markdown",
      "metadata": {
        "id": "view-in-github",
        "colab_type": "text"
      },
      "source": [
        "<a href=\"https://colab.research.google.com/github/hizieun/ML-yahac/blob/main/yahac_ML_1.ipynb\" target=\"_parent\"><img src=\"https://colab.research.google.com/assets/colab-badge.svg\" alt=\"Open In Colab\"/></a>"
      ]
    },
    {
      "cell_type": "code",
      "metadata": {
        "colab": {
          "base_uri": "https://localhost:8080/"
        },
        "id": "egozxlFZOT8P",
        "outputId": "c586a6c6-33c0-40e5-f235-e09e7f5630d2"
      },
      "source": [
        "# 라이브러리 사용\r\n",
        "import pandas as pd\r\n",
        "\r\n",
        "# 파일로부터 데이터 읽어오기\r\n",
        "file_path_1 = 'https://raw.githubusercontent.com/blackdew/tensorflow1/master/csv/lemonade.csv'\r\n",
        "lemonade = pd.read_csv(file_path_1)\r\n",
        "\r\n",
        "file_path_2 = 'https://raw.githubusercontent.com/blackdew/tensorflow1/master/csv/boston.csv'\r\n",
        "boston = pd.read_csv(file_path_2)\r\n",
        "\r\n",
        "file_path_3 = 'https://raw.githubusercontent.com/blackdew/tensorflow1/master/csv/iris.csv'\r\n",
        "iris = pd.read_csv(file_path_3)\r\n",
        "\r\n",
        "# 데이터의 모양확인\r\n",
        "print(lemonade.shape) # (6, 2)\r\n",
        "print(boston.shape)   # (506, 14)\r\n",
        "print(iris.shape)     # (150, 5)\r\n",
        "\r\n",
        "# 데이터 컬럼이름 확인\r\n",
        "print(lemonade.columns) # Index(['온도', '판매량'], dtype='object')\r\n",
        "print(boston.columns)   # Index(['crim', 'zn', 'indus', 'chas', 'nox', 'rm', 'age', 'dis', 'rad', 'tax','ptratio', 'b', 'lstat', 'medv'], dtype='object')\r\n",
        "print(iris.columns)     # Index(['꽃잎길이', '꽃잎폭', '꽃받침길이', '꽃받침폭', '품종'], dtype='object')\r\n",
        "\r\n",
        "# 독립변수&종속변수 분리\r\n",
        "lemon_x = lemonade[['온도']]\r\n",
        "lemon_y = lemonade[['판매량']]\r\n",
        "print(lemon_x.shape, lemon_y.shape) # (6, 1) (6, 1)\r\n",
        "\r\n",
        "bos_x = boston[['crim', 'zn', 'indus', 'chas', 'nox', 'rm', 'age', 'dis', 'rad', 'tax','ptratio', 'b', 'lstat']]\r\n",
        "bos_y = boston[['medv']]\r\n",
        "print(bos_x.shape, bos_y.shape)     # (506, 13) (506, 1)\r\n",
        "\r\n",
        "iris_x = iris[['꽃잎길이', '꽃잎폭', '꽃받침길이', '꽃받침폭']]\r\n",
        "iris_y = iris[['품종']]\r\n",
        "print(iris_x.shape, iris_y.shape)   # (150, 4) (150, 1)\r\n",
        "\r\n",
        "# 각각의 데이터 확인\r\n",
        "print(lemonade.head())\r\n",
        "print(boston.head())\r\n",
        "print(iris.head())"
      ],
      "execution_count": 3,
      "outputs": [
        {
          "output_type": "stream",
          "text": [
            "(6, 2)\n",
            "(506, 14)\n",
            "(150, 5)\n",
            "Index(['온도', '판매량'], dtype='object')\n",
            "Index(['crim', 'zn', 'indus', 'chas', 'nox', 'rm', 'age', 'dis', 'rad', 'tax',\n",
            "       'ptratio', 'b', 'lstat', 'medv'],\n",
            "      dtype='object')\n",
            "Index(['꽃잎길이', '꽃잎폭', '꽃받침길이', '꽃받침폭', '품종'], dtype='object')\n",
            "(6, 1) (6, 1)\n",
            "(506, 13) (506, 1)\n",
            "(150, 4) (150, 1)\n",
            "   온도  판매량\n",
            "0  20   40\n",
            "1  21   42\n",
            "2  22   44\n",
            "3  23   46\n",
            "4  24   48\n",
            "      crim    zn  indus  chas    nox  ...  tax  ptratio       b  lstat  medv\n",
            "0  0.00632  18.0   2.31     0  0.538  ...  296     15.3  396.90   4.98  24.0\n",
            "1  0.02731   0.0   7.07     0  0.469  ...  242     17.8  396.90   9.14  21.6\n",
            "2  0.02729   0.0   7.07     0  0.469  ...  242     17.8  392.83   4.03  34.7\n",
            "3  0.03237   0.0   2.18     0  0.458  ...  222     18.7  394.63   2.94  33.4\n",
            "4  0.06905   0.0   2.18     0  0.458  ...  222     18.7  396.90   5.33  36.2\n",
            "\n",
            "[5 rows x 14 columns]\n",
            "   꽃잎길이  꽃잎폭  꽃받침길이  꽃받침폭      품종\n",
            "0   5.1  3.5    1.4   0.2  setosa\n",
            "1   4.9  3.0    1.4   0.2  setosa\n",
            "2   4.7  3.2    1.3   0.2  setosa\n",
            "3   4.6  3.1    1.5   0.2  setosa\n",
            "4   5.0  3.6    1.4   0.2  setosa\n"
          ],
          "name": "stdout"
        }
      ]
    }
  ]
}