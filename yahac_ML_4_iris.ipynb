{
  "nbformat": 4,
  "nbformat_minor": 0,
  "metadata": {
    "colab": {
      "name": "yahac_ML_4_iris.ipynb",
      "provenance": [],
      "collapsed_sections": [],
      "authorship_tag": "ABX9TyPjxP7TGxpClFw27jiU/3Hp",
      "include_colab_link": true
    },
    "kernelspec": {
      "name": "python3",
      "display_name": "Python 3"
    }
  },
  "cells": [
    {
      "cell_type": "markdown",
      "metadata": {
        "id": "view-in-github",
        "colab_type": "text"
      },
      "source": [
        "<a href=\"https://colab.research.google.com/github/hizieun/ML-yahac/blob/main/yahac_ML_4_iris.ipynb\" target=\"_parent\"><img src=\"https://colab.research.google.com/assets/colab-badge.svg\" alt=\"Open In Colab\"/></a>"
      ]
    },
    {
      "cell_type": "code",
      "metadata": {
        "colab": {
          "base_uri": "https://localhost:8080/"
        },
        "id": "kiodKBCUu-E2",
        "outputId": "0fa9f3c0-8e8a-40d1-d1bd-b59cef3f46ed"
      },
      "source": [
        "# 라이브러리 사용\r\n",
        "import tensorflow as tf\r\n",
        "import pandas as pd\r\n",
        "\r\n",
        "###########################\r\n",
        "# 1.과거의 데이터를 준비합니다.\r\n",
        "file_path = 'https://raw.githubusercontent.com/blackdew/tensorflow1/master/csv/iris.csv'\r\n",
        "data = pd.read_csv(file_path)\r\n",
        "data.head()\r\n",
        "\r\n",
        "# 원핫인코딩\r\n",
        "iris = pd.get_dummies(data)\r\n",
        "# pd.get_dummies() : 수치형데이터(월=1,화=2,수=3)로만 변환하면 서로의 관계성(1+2=3)이 생기게됨\r\n",
        "# 사실이 아닌 관계성으로 인해 잘못된 학습이 발생할 수 있어서\r\n",
        "# 서로 무관한 더미로 만든 가변수(0 or 1)로 변환해줌\r\n",
        "\r\n",
        "# 종속변수, 독립변수\r\n",
        "var_x = iris[['꽃잎길이', '꽃잎폭', '꽃받침길이', '꽃받침폭']]\r\n",
        "var_y = iris[['품종_setosa', '품종_versicolor', '품종_virginica']]\r\n",
        "print(var_x.shape, var_y.shape)\r\n",
        "\r\n",
        "###########################\r\n",
        "# 2. 모델의 구조를 만듭니다\r\n",
        "X = tf.keras.layers.Input(shape=[4])\r\n",
        "Y = tf.keras.layers.Dense(3, activation='softmax')(X)\r\n",
        "model = tf.keras.models.Model(X, Y)\r\n",
        "model.compile(loss='categorical_crossentropy', metrics='accuracy')\r\n",
        "\r\n",
        "###########################\r\n",
        "# 3.데이터로 모델을 학습(FIT)합니다.\r\n",
        "model.fit(var_x, var_y, epochs=1000, verbose=0)\r\n",
        "model.fit(var_x, var_y, epochs=10)\r\n",
        "\r\n",
        "###########################\r\n",
        "# 4. 모델을 이용합니다\r\n",
        "# 맨 처음 데이터 5개\r\n",
        "print(model.predict(var_x[:5]))\r\n",
        "print(var_y[:5])\r\n",
        "\r\n",
        "# 맨 마지막 데이터 5개\r\n",
        "print(model.predict(var_x[-5:]))\r\n",
        "print(var_y[-5:])\r\n",
        "\r\n",
        "###########################\r\n",
        "# weights & bias 출력\r\n",
        "print(model.get_weights())"
      ],
      "execution_count": 2,
      "outputs": [
        {
          "output_type": "stream",
          "text": [
            "(150, 4) (150, 3)\n",
            "Epoch 1/10\n",
            "5/5 [==============================] - 0s 2ms/step - loss: 0.1639 - accuracy: 0.9667\n",
            "Epoch 2/10\n",
            "5/5 [==============================] - 0s 2ms/step - loss: 0.1638 - accuracy: 0.9733\n",
            "Epoch 3/10\n",
            "5/5 [==============================] - 0s 2ms/step - loss: 0.1637 - accuracy: 0.9733\n",
            "Epoch 4/10\n",
            "5/5 [==============================] - 0s 2ms/step - loss: 0.1635 - accuracy: 0.9667\n",
            "Epoch 5/10\n",
            "5/5 [==============================] - 0s 2ms/step - loss: 0.1633 - accuracy: 0.9733\n",
            "Epoch 6/10\n",
            "5/5 [==============================] - 0s 2ms/step - loss: 0.1633 - accuracy: 0.9667\n",
            "Epoch 7/10\n",
            "5/5 [==============================] - 0s 2ms/step - loss: 0.1634 - accuracy: 0.9733\n",
            "Epoch 8/10\n",
            "5/5 [==============================] - 0s 2ms/step - loss: 0.1627 - accuracy: 0.9733\n",
            "Epoch 9/10\n",
            "5/5 [==============================] - 0s 2ms/step - loss: 0.1632 - accuracy: 0.9733\n",
            "Epoch 10/10\n",
            "5/5 [==============================] - 0s 2ms/step - loss: 0.1631 - accuracy: 0.9733\n",
            "[[9.9884474e-01 1.1551521e-03 1.1698392e-07]\n",
            " [9.9528694e-01 4.7120000e-03 1.0152481e-06]\n",
            " [9.9797386e-01 2.0257703e-03 4.0326856e-07]\n",
            " [9.9537081e-01 4.6275421e-03 1.6047479e-06]\n",
            " [9.9913210e-01 8.6784572e-04 9.1556224e-08]]\n",
            "   품종_setosa  품종_versicolor  품종_virginica\n",
            "0          1              0             0\n",
            "1          1              0             0\n",
            "2          1              0             0\n",
            "3          1              0             0\n",
            "4          1              0             0\n",
            "[[9.5495989e-07 1.3307723e-01 8.6692184e-01]\n",
            " [2.3302368e-06 2.1233003e-01 7.8766769e-01]\n",
            " [4.3788682e-06 2.3229960e-01 7.6769602e-01]\n",
            " [9.9463534e-07 7.6106846e-02 9.2389214e-01]\n",
            " [1.0905968e-05 2.2764495e-01 7.7234411e-01]]\n",
            "     품종_setosa  품종_versicolor  품종_virginica\n",
            "145          0              0             1\n",
            "146          0              0             1\n",
            "147          0              0             1\n",
            "148          0              0             1\n",
            "149          0              0             1\n",
            "[array([[ 0.50379324,  0.5350219 , -0.835589  ],\n",
            "       [ 3.4566672 ,  0.6252781 , -0.33642146],\n",
            "       [-2.9389627 , -0.19560635,  1.4134533 ],\n",
            "       [-4.42485   , -1.2264102 ,  1.9495071 ]], dtype=float32), array([ 2.1264834,  0.6343255, -1.0951837], dtype=float32)]\n"
          ],
          "name": "stdout"
        }
      ]
    },
    {
      "cell_type": "markdown",
      "metadata": {
        "id": "V_aHxCnpvN6D"
      },
      "source": [
        ""
      ]
    }
  ]
}